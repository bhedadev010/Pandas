{
 "cells": [
  {
   "cell_type": "code",
   "execution_count": 23,
   "metadata": {},
   "outputs": [],
   "source": [
    "import numpy as np\n",
    "import pandas as pd\n",
    "\n",
    "a = pd.read_csv('kohli_ipl.csv')\n",
    "b = pd.read_csv('bollywood.csv')\n",
    "b = b.squeeze()"
   ]
  },
  {
   "cell_type": "code",
   "execution_count": 25,
   "metadata": {},
   "outputs": [
    {
     "name": "stdout",
     "output_type": "stream",
     "text": [
      "                                     movie              lead\n",
      "0                 Uri: The Surgical Strike     Vicky Kaushal\n",
      "1                            Battalion 609       Vicky Ahuja\n",
      "2     The Accidental Prime Minister (film)       Anupam Kher\n",
      "3                          Why Cheat India     Emraan Hashmi\n",
      "4                          Evening Shadows  Mona Ambegaonkar\n",
      "...                                    ...               ...\n",
      "1495                Hum Tumhare Hain Sanam    Shah Rukh Khan\n",
      "1496                   Aankhen (2002 film)  Amitabh Bachchan\n",
      "1497                       Saathiya (film)      Vivek Oberoi\n",
      "1498                        Company (film)        Ajay Devgn\n",
      "1499                  Awara Paagal Deewana      Akshay Kumar\n",
      "\n",
      "[1500 rows x 2 columns]\n"
     ]
    },
    {
     "data": {
      "text/plain": [
       "movie                    lead           \n",
       "Gabbar Is Back           Akshay Kumar       2\n",
       "Andaaz                   Akshay Kumar       2\n",
       "Tanu Weds Manu: Returns  Kangana Ranaut     2\n",
       "Yuvvraaj                 Salman Khan        1\n",
       "Yuva                     Ajay Devgn         1\n",
       "                                           ..\n",
       "Yeh Mera India           Anupam Kher        1\n",
       "Yeh Saali Aashiqui       Vardhan Puri       1\n",
       "Youngistaan              Jackky Bhagnani    1\n",
       "Yun Hota Toh Kya Hota    Paresh Rawal       1\n",
       "Yakeen (2005 film)       Arjun Rampal       1\n",
       "Name: count, Length: 1497, dtype: int64"
      ]
     },
     "execution_count": 25,
     "metadata": {},
     "output_type": "execute_result"
    }
   ],
   "source": [
    "print(b)\n",
    "b.value_counts()"
   ]
  }
 ],
 "metadata": {
  "kernelspec": {
   "display_name": ".venv",
   "language": "python",
   "name": "python3"
  },
  "language_info": {
   "codemirror_mode": {
    "name": "ipython",
    "version": 3
   },
   "file_extension": ".py",
   "mimetype": "text/x-python",
   "name": "python",
   "nbconvert_exporter": "python",
   "pygments_lexer": "ipython3",
   "version": "3.12.4"
  }
 },
 "nbformat": 4,
 "nbformat_minor": 2
}
