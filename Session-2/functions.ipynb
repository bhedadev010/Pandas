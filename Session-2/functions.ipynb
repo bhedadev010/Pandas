{
 "cells": [
  {
   "cell_type": "code",
   "execution_count": 51,
   "metadata": {},
   "outputs": [],
   "source": [
    "import numpy as np\n",
    "import pandas as pd\n",
    "\n",
    "a = pd.read_csv('kohli_ipl.csv')\n",
    "b = pd.read_csv('bollywood.csv')\n",
    "b = b.squeeze()\n",
    "a = a.squeeze()"
   ]
  },
  {
   "cell_type": "markdown",
   "metadata": {},
   "source": [
    "[1]\n",
    "\n",
    ".value_counts() =  counts : Series \n",
    "\n",
    "Syntax: Index.value_counts(normalize=False, sort=True, ascending=False, bins=None, dropna=True)\n",
    "\n",
    "Parameters : \n",
    "\n",
    "normalize : If True then the object returned will contain the relative frequencies of the unique values. \n",
    "\n",
    "sort : Sort by values \n",
    "\n",
    "ascending : Sort in ascending order \n",
    "\n",
    "bins : Rather than count values, group them into half-open bins, a convenience for pd.cut, only works with numeric data \n",
    "\n",
    "dropna : Don’t include counts of NaN."
   ]
  },
  {
   "cell_type": "code",
   "execution_count": 52,
   "metadata": {},
   "outputs": [
    {
     "data": {
      "text/plain": [
       "movie                    lead           \n",
       "Gabbar Is Back           Akshay Kumar       2\n",
       "Andaaz                   Akshay Kumar       2\n",
       "Tanu Weds Manu: Returns  Kangana Ranaut     2\n",
       "Yuvvraaj                 Salman Khan        1\n",
       "Yuva                     Ajay Devgn         1\n",
       "                                           ..\n",
       "Yeh Mera India           Anupam Kher        1\n",
       "Yeh Saali Aashiqui       Vardhan Puri       1\n",
       "Youngistaan              Jackky Bhagnani    1\n",
       "Yun Hota Toh Kya Hota    Paresh Rawal       1\n",
       "Yakeen (2005 film)       Arjun Rampal       1\n",
       "Name: count, Length: 1497, dtype: int64"
      ]
     },
     "execution_count": 52,
     "metadata": {},
     "output_type": "execute_result"
    }
   ],
   "source": [
    "b.value_counts()"
   ]
  },
  {
   "cell_type": "markdown",
   "metadata": {},
   "source": [
    "[2]\n",
    "\n",
    ".size = Returns size of dataframe/series which is equivalent to total number of elements.\n",
    "\n",
    ".shape = Returns tuple of shape (Rows, columns) of dataframe/series"
   ]
  },
  {
   "cell_type": "code",
   "execution_count": 57,
   "metadata": {},
   "outputs": [
    {
     "data": {
      "text/plain": [
       "430"
      ]
     },
     "execution_count": 57,
     "metadata": {},
     "output_type": "execute_result"
    }
   ],
   "source": [
    "b.shape\n",
    "a.shape\n",
    "b.size\n",
    "a.size"
   ]
  },
  {
   "cell_type": "markdown",
   "metadata": {},
   "source": [
    "[3]\n",
    "\n",
    ".sort_values = Returns a sorted Data Frame with Same dimensions as of the function caller DataFrame.\n",
    "\n",
    "Syntax: DataFrame.sort_values(by, axis=0, ascending=True, inplace=False, kind=’quicksort’, na_position=’last’)\n",
    "\n",
    "Note: Every parameter has some default values except the ‘by’ parameter.\n",
    "\n",
    "Parameters: \n",
    "\n",
    "by: Single/List of column names to sort Data Frame by.\n",
    "\n",
    "axis: 0 or ‘index’ for rows and 1 or ‘columns’ for Column. \n",
    "\n",
    "ascending: Boolean value which sorts Data frame in ascending order if True. \n",
    "\n",
    "inplace: Boolean value. Makes the changes in passed data frame itself if True. \n",
    "\n",
    "kind: String which can have three inputs(‘quicksort’, ‘mergesort’ or ‘heapsort’) of algorithm used to sort data frame. \n",
    "\n",
    "na_position: Takes two string input ‘last’ or ‘first’ to set position of Null values. Default is ‘last’."
   ]
  },
  {
   "cell_type": "code",
   "execution_count": 14,
   "metadata": {},
   "outputs": [
    {
     "data": {
      "text/html": [
       "<div>\n",
       "<style scoped>\n",
       "    .dataframe tbody tr th:only-of-type {\n",
       "        vertical-align: middle;\n",
       "    }\n",
       "\n",
       "    .dataframe tbody tr th {\n",
       "        vertical-align: top;\n",
       "    }\n",
       "\n",
       "    .dataframe thead th {\n",
       "        text-align: right;\n",
       "    }\n",
       "</style>\n",
       "<table border=\"1\" class=\"dataframe\">\n",
       "  <thead>\n",
       "    <tr style=\"text-align: right;\">\n",
       "      <th></th>\n",
       "      <th>movie</th>\n",
       "      <th>lead</th>\n",
       "    </tr>\n",
       "  </thead>\n",
       "  <tbody>\n",
       "    <tr>\n",
       "      <th>1305</th>\n",
       "      <td>Taj Mahal: An Eternal Love Story</td>\n",
       "      <td>Zulfi Sayed</td>\n",
       "    </tr>\n",
       "    <tr>\n",
       "      <th>306</th>\n",
       "      <td>Dil Toh Deewana Hai</td>\n",
       "      <td>Zeenat Aman</td>\n",
       "    </tr>\n",
       "    <tr>\n",
       "      <th>458</th>\n",
       "      <td>Strings of Passion</td>\n",
       "      <td>Zeenat Aman</td>\n",
       "    </tr>\n",
       "    <tr>\n",
       "      <th>257</th>\n",
       "      <td>Sallu Ki Shaadi</td>\n",
       "      <td>Zeenat Aman</td>\n",
       "    </tr>\n",
       "    <tr>\n",
       "      <th>911</th>\n",
       "      <td>Dunno Y... Na Jaane Kyon</td>\n",
       "      <td>Zeenat Aman</td>\n",
       "    </tr>\n",
       "    <tr>\n",
       "      <th>...</th>\n",
       "      <td>...</td>\n",
       "      <td>...</td>\n",
       "    </tr>\n",
       "    <tr>\n",
       "      <th>1168</th>\n",
       "      <td>Fanaa (2006 film)</td>\n",
       "      <td>Aamir Khan</td>\n",
       "    </tr>\n",
       "    <tr>\n",
       "      <th>974</th>\n",
       "      <td>Raat Gayi Baat Gayi?</td>\n",
       "      <td>Aamir Bashir</td>\n",
       "    </tr>\n",
       "    <tr>\n",
       "      <th>205</th>\n",
       "      <td>Lipstick Under My Burkha</td>\n",
       "      <td>Aahana Kumra</td>\n",
       "    </tr>\n",
       "    <tr>\n",
       "      <th>553</th>\n",
       "      <td>Roar: Tigers of the Sundarbans</td>\n",
       "      <td>Aadil Chahal</td>\n",
       "    </tr>\n",
       "    <tr>\n",
       "      <th>217</th>\n",
       "      <td>Qaidi Band</td>\n",
       "      <td>Aadar Jain</td>\n",
       "    </tr>\n",
       "  </tbody>\n",
       "</table>\n",
       "<p>1500 rows × 2 columns</p>\n",
       "</div>"
      ],
      "text/plain": [
       "                                 movie          lead\n",
       "1305  Taj Mahal: An Eternal Love Story   Zulfi Sayed\n",
       "306                Dil Toh Deewana Hai   Zeenat Aman\n",
       "458                 Strings of Passion   Zeenat Aman\n",
       "257                    Sallu Ki Shaadi   Zeenat Aman\n",
       "911           Dunno Y... Na Jaane Kyon   Zeenat Aman\n",
       "...                                ...           ...\n",
       "1168                 Fanaa (2006 film)    Aamir Khan\n",
       "974               Raat Gayi Baat Gayi?  Aamir Bashir\n",
       "205           Lipstick Under My Burkha  Aahana Kumra\n",
       "553     Roar: Tigers of the Sundarbans  Aadil Chahal\n",
       "217                         Qaidi Band    Aadar Jain\n",
       "\n",
       "[1500 rows x 2 columns]"
      ]
     },
     "execution_count": 14,
     "metadata": {},
     "output_type": "execute_result"
    }
   ],
   "source": [
    "b.sort_values(by='lead',ascending=False)\n",
    "a.sort_values(by='runs',ascending=True)\n",
    "b.sort_values(inplace=True,by='movie')\n",
    "b"
   ]
  },
  {
   "cell_type": "markdown",
   "metadata": {},
   "source": [
    "[4]\n",
    "\n",
    ".sort_index = Return => sorted_obj : DataFrame \n",
    "\n",
    "Syntax: DataFrame.sort_index(axis=0, level=None, ascending=True, inplace=False, kind=’quicksort’, na_position=’last’, sort_remaining=True, by=None)\n",
    "\n",
    "Parameters :\n",
    "\n",
    "axis : index, columns to direct sorting \n",
    "\n",
    "level : if not None, sort on values in specified index level(s) \n",
    "\n",
    "ascending : Sort ascending vs. descending \n",
    "\n",
    "inplace : if True, perform operation in-place \n",
    "\n",
    "kind : {‘quicksort’, ‘mergesort’, ‘heapsort’}, default ‘quicksort’. Choice of sorting algorithm. See also ndarray.np.sort for more information. mergesort is the only stable algorithm. For DataFrames, this option is only applied when sorting on a single column or label. \n",
    "\n",
    "na_position : [{‘first’, ‘last’}, default ‘last’] First puts NaNs at the beginning, last puts NaNs at the end. Not implemented for MultiIndex. \n",
    "\n",
    "sort_remaining : If true and sorting by level and index is multilevel, sort by other levels too (in order) after sorting by specified level"
   ]
  },
  {
   "cell_type": "code",
   "execution_count": 20,
   "metadata": {},
   "outputs": [
    {
     "data": {
      "text/plain": [
       "array(['Uri: The Surgical Strike', 'Vicky Kaushal'], dtype=object)"
      ]
     },
     "execution_count": 20,
     "metadata": {},
     "output_type": "execute_result"
    }
   ],
   "source": [
    "b.sort_index().head(1).values[0]"
   ]
  },
  {
   "cell_type": "code",
   "execution_count": 33,
   "metadata": {},
   "outputs": [
    {
     "data": {
      "text/plain": [
       "movie    1920 (film)1920: London1920: The Evil Returns1...\n",
       "lead     Rajniesh DuggallSharman JoshiVicky AhujaManoj ...\n",
       "dtype: object"
      ]
     },
     "execution_count": 33,
     "metadata": {},
     "output_type": "execute_result"
    }
   ],
   "source": [
    "b.sum()"
   ]
  },
  {
   "cell_type": "code",
   "execution_count": null,
   "metadata": {},
   "outputs": [],
   "source": [
    "a.sum()"
   ]
  },
  {
   "cell_type": "code",
   "execution_count": 34,
   "metadata": {},
   "outputs": [
    {
     "data": {
      "text/plain": [
       "match_no    0\n",
       "runs        0\n",
       "dtype: int64"
      ]
     },
     "execution_count": 34,
     "metadata": {},
     "output_type": "execute_result"
    }
   ],
   "source": [
    "a.product()\n",
    "#b.product()  #not possible"
   ]
  },
  {
   "cell_type": "code",
   "execution_count": 37,
   "metadata": {},
   "outputs": [
    {
     "data": {
      "text/plain": [
       "match_no    108.000000\n",
       "runs         30.855814\n",
       "dtype: float64"
      ]
     },
     "execution_count": 37,
     "metadata": {},
     "output_type": "execute_result"
    }
   ],
   "source": [
    "a.mean()\n",
    "#b.mean() not possible"
   ]
  },
  {
   "cell_type": "code",
   "execution_count": 46,
   "metadata": {},
   "outputs": [
    {
     "data": {
      "text/plain": [
       "match_no    3870.000000\n",
       "runs         688.002478\n",
       "dtype: float64"
      ]
     },
     "execution_count": 46,
     "metadata": {},
     "output_type": "execute_result"
    }
   ],
   "source": [
    "a.mode()\n",
    "a.median()\n",
    "a.std()\n",
    "a.var()"
   ]
  },
  {
   "cell_type": "code",
   "execution_count": 50,
   "metadata": {},
   "outputs": [
    {
     "data": {
      "text/plain": [
       "movie    1920 (film)\n",
       "lead      Aadar Jain\n",
       "dtype: object"
      ]
     },
     "execution_count": 50,
     "metadata": {},
     "output_type": "execute_result"
    }
   ],
   "source": [
    "a.max()\n",
    "b.max()\n",
    "a.min()\n",
    "b.min()"
   ]
  }
 ],
 "metadata": {
  "kernelspec": {
   "display_name": ".venv",
   "language": "python",
   "name": "python3"
  },
  "language_info": {
   "codemirror_mode": {
    "name": "ipython",
    "version": 3
   },
   "file_extension": ".py",
   "mimetype": "text/x-python",
   "name": "python",
   "nbconvert_exporter": "python",
   "pygments_lexer": "ipython3",
   "version": "3.12.4"
  }
 },
 "nbformat": 4,
 "nbformat_minor": 2
}
